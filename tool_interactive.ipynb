{
 "cells": [
  {
   "cell_type": "markdown",
   "metadata": {},
   "source": [
    "# Flowcyt"
   ]
  },
  {
   "cell_type": "markdown",
   "metadata": {},
   "source": [
    "1. To use the tool in an Jupyter notebook environment, it is important to run all the cells containing code\n",
    "2. "
   ]
  },
  {
   "cell_type": "code",
   "execution_count": 1,
   "metadata": {},
   "outputs": [],
   "source": [
    "import flowcyt"
   ]
  },
  {
   "cell_type": "code",
   "execution_count": 9,
   "metadata": {},
   "outputs": [],
   "source": [
    "def run_tool(args):\n",
    "    # INITIALIZE MODEL\n",
    "    model = flowcyt.initialize_model(args)\n",
    "    # READ DATA\n",
    "    seq_ids, seqs = flowcyt.read_data(args)\n",
    "    # TRANSFORM DATA\n",
    "    seq_img = flowcyt.transform_data(seqs)\n",
    "    # FORWARD PASS\n",
    "    pred_te_prob, pred_te_disc = flowcyt.forward_pass(model, seq_img, args)\n",
    "    # CREATE OUTPUT\n",
    "    output = flowcyt.create_output(pred_te_prob, pred_te_disc, seq_ids, seqs, args)\n",
    "    return output"
   ]
  },
  {
   "cell_type": "code",
   "execution_count": 10,
   "metadata": {},
   "outputs": [
    {
     "data": {
      "text/html": [
       "<div>\n",
       "<style scoped>\n",
       "    .dataframe tbody tr th:only-of-type {\n",
       "        vertical-align: middle;\n",
       "    }\n",
       "\n",
       "    .dataframe tbody tr th {\n",
       "        vertical-align: top;\n",
       "    }\n",
       "\n",
       "    .dataframe thead th {\n",
       "        text-align: right;\n",
       "    }\n",
       "</style>\n",
       "<table border=\"1\" class=\"dataframe\">\n",
       "  <thead>\n",
       "    <tr style=\"text-align: right;\">\n",
       "      <th></th>\n",
       "      <th>ID</th>\n",
       "      <th>spacer</th>\n",
       "      <th>strength</th>\n",
       "      <th>P(Class 0|spacer)</th>\n",
       "      <th>P(Class 1|spacer)</th>\n",
       "      <th>P(Class 2|spacer)</th>\n",
       "      <th>P(Class 3|spacer)</th>\n",
       "      <th>P(Class 4|spacer)</th>\n",
       "      <th>P(Class 5|spacer)</th>\n",
       "      <th>P(Class 6|spacer)</th>\n",
       "      <th>P(Class 7|spacer)</th>\n",
       "      <th>P(Class 8|spacer)</th>\n",
       "      <th>P(Class 9|spacer)</th>\n",
       "      <th>P(Class 10|spacer)</th>\n",
       "    </tr>\n",
       "  </thead>\n",
       "  <tbody>\n",
       "    <tr>\n",
       "      <th>0</th>\n",
       "      <td>&gt;EXAMPLE_1</td>\n",
       "      <td>AAAACCCCGGGGTTTTT</td>\n",
       "      <td>3</td>\n",
       "      <td>0.088936</td>\n",
       "      <td>0.135741</td>\n",
       "      <td>0.167642</td>\n",
       "      <td>0.171272</td>\n",
       "      <td>0.149359</td>\n",
       "      <td>0.113169</td>\n",
       "      <td>0.076828</td>\n",
       "      <td>0.048186</td>\n",
       "      <td>0.027684</td>\n",
       "      <td>0.014826</td>\n",
       "      <td>0.006358</td>\n",
       "    </tr>\n",
       "    <tr>\n",
       "      <th>1</th>\n",
       "      <td>&gt;EXAMPLE_2</td>\n",
       "      <td>TTTTCCCCGGGGTTTTT</td>\n",
       "      <td>2</td>\n",
       "      <td>0.099437</td>\n",
       "      <td>0.147425</td>\n",
       "      <td>0.175184</td>\n",
       "      <td>0.171572</td>\n",
       "      <td>0.143869</td>\n",
       "      <td>0.105624</td>\n",
       "      <td>0.070109</td>\n",
       "      <td>0.043331</td>\n",
       "      <td>0.024675</td>\n",
       "      <td>0.013149</td>\n",
       "      <td>0.005625</td>\n",
       "    </tr>\n",
       "    <tr>\n",
       "      <th>2</th>\n",
       "      <td>&gt;EXAMPLE_3</td>\n",
       "      <td>TTTTGGGGCCCCAAAAA</td>\n",
       "      <td>1</td>\n",
       "      <td>0.170230</td>\n",
       "      <td>0.208271</td>\n",
       "      <td>0.197194</td>\n",
       "      <td>0.155059</td>\n",
       "      <td>0.108469</td>\n",
       "      <td>0.069743</td>\n",
       "      <td>0.042379</td>\n",
       "      <td>0.024792</td>\n",
       "      <td>0.013671</td>\n",
       "      <td>0.007157</td>\n",
       "      <td>0.003035</td>\n",
       "    </tr>\n",
       "  </tbody>\n",
       "</table>\n",
       "</div>"
      ],
      "text/plain": [
       "           ID             spacer  strength  P(Class 0|spacer)  \\\n",
       "0  >EXAMPLE_1  AAAACCCCGGGGTTTTT         3           0.088936   \n",
       "1  >EXAMPLE_2  TTTTCCCCGGGGTTTTT         2           0.099437   \n",
       "2  >EXAMPLE_3  TTTTGGGGCCCCAAAAA         1           0.170230   \n",
       "\n",
       "   P(Class 1|spacer)  P(Class 2|spacer)  P(Class 3|spacer)  P(Class 4|spacer)  \\\n",
       "0           0.135741           0.167642           0.171272           0.149359   \n",
       "1           0.147425           0.175184           0.171572           0.143869   \n",
       "2           0.208271           0.197194           0.155059           0.108469   \n",
       "\n",
       "   P(Class 5|spacer)  P(Class 6|spacer)  P(Class 7|spacer)  P(Class 8|spacer)  \\\n",
       "0           0.113169           0.076828           0.048186           0.027684   \n",
       "1           0.105624           0.070109           0.043331           0.024675   \n",
       "2           0.069743           0.042379           0.024792           0.013671   \n",
       "\n",
       "   P(Class 9|spacer)  P(Class 10|spacer)  \n",
       "0           0.014826            0.006358  \n",
       "1           0.013149            0.005625  \n",
       "2           0.007157            0.003035  "
      ]
     },
     "execution_count": 10,
     "metadata": {},
     "output_type": "execute_result"
    }
   ],
   "source": [
    "run_tool(flowcyt.DEF_ARGS)"
   ]
  }
 ],
 "metadata": {
  "kernelspec": {
   "display_name": "Python [conda env:flowcyt]",
   "language": "python",
   "name": "conda-env-flowcyt-py"
  },
  "language_info": {
   "codemirror_mode": {
    "name": "ipython",
    "version": 3
   },
   "file_extension": ".py",
   "mimetype": "text/x-python",
   "name": "python",
   "nbconvert_exporter": "python",
   "pygments_lexer": "ipython3",
   "version": "3.7.3"
  }
 },
 "nbformat": 4,
 "nbformat_minor": 4
}
