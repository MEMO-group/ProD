{
 "cells": [
  {
   "cell_type": "markdown",
   "metadata": {},
   "source": [
    "<h1> Promoter Designer (ProD) Tool </h1>\n",
    "\n",
    "[Link to Article](.)       Van Brempt Maarten, Clauwaert Jim et al.\n",
    "\n",
    "The ProD tool is designed for the construction of promoter strength libraries in prokaryotes. This [Jupyter Notebook](https://jupyter-notebook-beginner-guide.readthedocs.io/en/latest/) is created to feature an interactive environment in [Python](https://docs.python.org/3/) for constructing libraries in *E. coli*. The tool can be run locally and is available through [GitHub](https://github.com/jdcla/ProD).\n",
    "\n",
    "---\n",
    "\n"
   ]
  },
  {
   "cell_type": "markdown",
   "metadata": {},
   "source": [
    "Jupyter Notebook\n",
    "---\n",
    "\n",
    "1. To use the tool in an Jupyter notebook environment, it is important to run code cells (blocks preceded by `[]:`) sequentially. To run a cell, select it and press `Ctrl+Enter`.\n",
    "\n",
    "2. Comments in code cells are preceded by `#` and are used to offer an explanation to the code's functionality\n",
    "\n",
    "3. To download the model's output predictions, go to the dashboard (clicking the jupyter logo in the top left corner) and download the output file (default: `my_predictions.csv`)\n",
    "\n",
    "![dashboard](img/dashboard.png)\n",
    "\n",
    "4. When running this notebook through [Binder](https://mybinder.org/), changes are not saved through sessions. Make sure to download all generated files. In case of malfunction or unwanted changes, simply start a new session.\n",
    "\n",
    "---"
   ]
  },
  {
   "cell_type": "markdown",
   "metadata": {},
   "source": [
    "ProD\n",
    "---\n",
    "\n",
    "The Promoter Designer tool is created to construct promoter libraries, further exploiting biological capabilities of the microorganisms that allow for the fine-tuning of genetic circuits. A neural network has been trained on hundreds of thousands of sequences that have been randomized in the **17nt spacer sequence**. Therefore, generated promoters, ranging from no expression (strengh: `0`) to high expression (strength: `10`) all feature the same UP-region, binding boxes (-35, -10) and untranslated region (UTR).\n",
    "\n",
    "`\n",
    "[UP-region][-35-box][spacer][-10-box][ATATTC][UTR]\n",
    "`\n",
    "\n",
    "`\n",
    "[GGTCTATGAGTGGTTGCTGGATAAC][TTTACG][NNNNNNNNNNNNNNNNN][TATAAT][ATATTC][AGGGAGAGCACAACGGTTTCCCTCTACAAATAATTTTGTTTAACTTT]\n",
    "`\n",
    "\n",
    "The tool is run by calling the function `run_tool`, present in the `ProD.py` script. After import (first code cell). The tool can be run and has several inputs.\n",
    "\n",
    "`\n",
    "run_tool(input_data, output_path='my_predictions', lib=True,\n",
    "    lib_size=5, strengths=range(0, 11), cuda=False)\n",
    "`\n",
    "#### **Function arguments**\n",
    "\n",
    "`input_data (list[str])` : A list containing input samples. All input sequences require to be strings of **length 17**. Sequences can be constructed using [**A, C, G, T, R, Y, S, W, K, M, B, D, H, V, N**](https://en.wikipedia.org/wiki/Nucleic_acid_notation). When constructing a library (`lib=True`), only the first sequence is used as the input blueprint (see `Constructing a Library`)\n",
    "\n",
    "`output_path (string)` (default: my_predictions) : A string featuring the output file. This files contains all information generated when running the tool. It furthermore contains the strength probability scores for each of the classes.\n",
    "\n",
    "\n",
    "`lib (bool)` (default:True) : Determines the construction of a library (`True`) or the prediction of promoter strength of the input sequences (`False`).\n",
    "\n",
    "`cuda (bool)` (default:False) : Determines the use of GPU accelerated computing. Does not work using Binder, requires local installation.\n",
    "\n",
    "##### **Only evaluated for `lib=True`**\n",
    "\n",
    "`lib_size (int)` (default:5) : The amount of output spacer sequences for each of the requested promoter strengths \n",
    "\n",
    "`strengths (list[int])` (default:[0,1,2,3,4,5,6,7,8,9,10]) : A list containing integers determining the promoter strengths present in te library\n",
    "\n",
    "Read more about [Python](https://docs.python.org/3/) and [Jupyter Notebook](https://jupyter-notebook-beginner-guide.readthedocs.io/en/latest/)\n",
    "\n",
    "---\n",
    "<h2> Load Code </h2>"
   ]
  },
  {
   "cell_type": "code",
   "execution_count": null,
   "metadata": {},
   "outputs": [],
   "source": [
    "# Ctrl + Enter to run\n",
    "\n",
    "# Load code from python file\n",
    "from ProD import run_tool"
   ]
  },
  {
   "cell_type": "markdown",
   "metadata": {},
   "source": [
    "---\n",
    "## Create Library\n",
    "\n",
    "To create a custom promoter library, a single input blueprint is given that functions as the source from which spacer sequences are evaluated. The tool will run through the following steps:\n",
    "\n",
    "1. Create all possible sequences from the degenerate input sequence\n",
    "2. Determine the promoter strengths, retain all spacer sequences for requested promoter strengths\n",
    "3. Sample promoters to construct library.\n",
    "4. Construct degenerate sequence (library blueprint) from all sequences. For each blueprint, the fraction of sequences classified to each category of strength is given.\n",
    "\n",
    "If the amount of sequences possible from the input sequence exceeds 500,000, spacers will be sampled (100,000) instead and no library blueprint is created. To attain feasible processing times, a minimal amount of user guidance in the construction of the library blueprint is required.\n",
    "\n",
    "**NOTE:** Promoter strength is divided in 11 ordinal classes ranging from 0 to 10. Overlap between neighbouring class strengths is expected. Therefore, when constructing a library it can be beneficial to group classes together. Specifically, we recommend the following interpretation of four sets of input strengths.\n",
    "* zero to low expression: `strengths = [0,1,2]`\n",
    "* low to medium expression: `strengths = [3,4,5]`\n",
    "* medium to high expression: `strengths = [6,7,8]`\n",
    "* high to very high expression: `strengths = [9,10]`"
   ]
  },
  {
   "cell_type": "code",
   "execution_count": null,
   "metadata": {},
   "outputs": [],
   "source": [
    "# Ctrl + Enter to run\n",
    "\n",
    "# Define custom spacer (requires to be length 17)\n",
    "input_data = [\n",
    "# Add single blueprint\n",
    "    'NNNCGGGNCCNGGGNNN',\n",
    "]\n",
    "# Define strengths\n",
    "my_strengths = [9,10]\n",
    "# Run tool\n",
    "run_tool(input_data, strengths=my_strengths)"
   ]
  },
  {
   "cell_type": "markdown",
   "metadata": {},
   "source": [
    "##### Outputs can be downloaded:  Go to the dashboard (clicking the jupyter logo in the top left corner) and download the output file (default: `my_predictions.csv`)"
   ]
  },
  {
   "cell_type": "markdown",
   "metadata": {},
   "source": [
    "---\n",
    "<h2> Evaluate Custom Spacers</h2>\n",
    "\n",
    "It is possible to evaluate custom sequences. The input can be given as a list or the path to a fasta file."
   ]
  },
  {
   "cell_type": "code",
   "execution_count": null,
   "metadata": {},
   "outputs": [],
   "source": [
    "# Ctrl + Enter to run\n",
    "\n",
    "# Define custom spacers (requires to be length 17)\n",
    "input_data = [\n",
    "    'TTNCCGGGCCGRRGAGA',\n",
    "    'AANCCGNNNNCRRGAGA',\n",
    "    'GGCCNAANANACVVVAG'\n",
    "# Add extra lines if necessary\n",
    "]\n",
    "# Run tool\n",
    "run_tool(input_data, lib=False)"
   ]
  },
  {
   "cell_type": "markdown",
   "metadata": {},
   "source": [
    "---\n",
    "<h3> Input Fasta File  </h3>\n",
    "\n",
    "1. Go to **dashboard** ![dashboard](img/dashboard.png)\n",
    "2. Go to **upload** ![upload](img/upload.png)\n",
    "3. Input **file name**"
   ]
  },
  {
   "cell_type": "code",
   "execution_count": null,
   "metadata": {},
   "outputs": [],
   "source": [
    "# Ctrl + Enter to run\n",
    "\n",
    "# Input fasta file location\n",
    "input_file = \"ex_seqs.fa\"\n",
    "# Run tool\n",
    "run_tool(input_file, lib=False)"
   ]
  },
  {
   "cell_type": "markdown",
   "metadata": {},
   "source": [
    "---"
   ]
  }
 ],
 "metadata": {
  "kernelspec": {
   "display_name": "Python [conda env:flowcyt]",
   "language": "python",
   "name": "conda-env-flowcyt-py"
  },
  "language_info": {
   "codemirror_mode": {
    "name": "ipython",
    "version": 3
   },
   "file_extension": ".py",
   "mimetype": "text/x-python",
   "name": "python",
   "nbconvert_exporter": "python",
   "pygments_lexer": "ipython3",
   "version": "3.7.3"
  },
  "toc-autonumbering": false,
  "toc-showcode": false,
  "toc-showmarkdowntxt": false
 },
 "nbformat": 4,
 "nbformat_minor": 4
}
