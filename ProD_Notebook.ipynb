{
 "cells": [
  {
   "cell_type": "markdown",
   "metadata": {},
   "source": [
    "<h1> Promoter Designer tool </h1>\n",
    "\n",
    "1. To use the tool in an Jupyter notebook environment, it is important to run all the previous cells containing code. To run a cell, press `Shift+Enter`.\n",
    "\n",
    "2. All input sequences require to be of **length 17** and can only exist of the nucleotides **A, C, G, T**\n",
    "\n",
    "\n",
    "Read more about [Python](https://docs.python.org/3/) and [Jupyter Notebook](https://jupyter-notebook-beginner-guide.readthedocs.io/en/latest/)\n",
    "\n",
    "<h2> Load Code </h2>"
   ]
  },
  {
   "cell_type": "code",
   "execution_count": null,
   "metadata": {},
   "outputs": [],
   "source": [
    "# Load code from python file\n",
    "import ProD\n",
    "\n",
    "# Default variables\n",
    "output_path = 'my_predictions'\n",
    "input_file = 'ex_seqs.fa'\n",
    "\n",
    "\n",
    "def run_tool(input_data, output_path):\n",
    "    # INITIALIZE MODEL\n",
    "    model = ProD.initialize_model()\n",
    "    # READ DATA\n",
    "    seq_ids, seqs = ProD.read_data(input_data)\n",
    "    # TRANSFORM DATA\n",
    "    seq_img = ProD.transform_data(seqs)\n",
    "    # FORWARD PASS\n",
    "    pred_te_prob, pred_te_disc = ProD.forward_pass(model, seq_img)\n",
    "    # CREATE OUTPUT\n",
    "    output = ProD.create_output(pred_te_prob, pred_te_disc,\n",
    "                                   seq_ids, seqs, output_path)\n",
    "    return output"
   ]
  },
  {
   "cell_type": "markdown",
   "metadata": {},
   "source": [
    "<h2> Input Sequences </h2>"
   ]
  },
  {
   "cell_type": "code",
   "execution_count": null,
   "metadata": {},
   "outputs": [],
   "source": [
    "# Define custom spacers (requires to be length 17)\n",
    "input_data = [\n",
    "    'AAAAAAAAAAAAAAAAA',\n",
    "# Add extra lines if necessary\n",
    "]\n"
   ]
  },
  {
   "cell_type": "markdown",
   "metadata": {},
   "source": [
    "**Example**\n",
    "\n",
    "`\n",
    "spacer_seqs = [\n",
    "    'AAAAAAAAAAAAAACCG',\n",
    "    'AACCCGGGCCGAAGAGA',\n",
    "    'TTAAGGGAAGGAGAGAG',\n",
    "]\n",
    "`"
   ]
  },
  {
   "cell_type": "code",
   "execution_count": null,
   "metadata": {},
   "outputs": [],
   "source": [
    "run_tool(input_data, output_path)"
   ]
  },
  {
   "cell_type": "markdown",
   "metadata": {},
   "source": [
    "**NOTICE: Outputs display the class probabilities for each of the 10 classes. Higher classes correspond to higher rates of transcription initiation rate or stronger promoters**\n",
    "\n",
    "**For more information check out the [README on the GitHub Page](https://github.com/jdcla/ProD/README.md)**\n",
    "\n",
    "**To download the predictions as CSV file, go to the dashboard and download the file 'my_predictions.csv'**\n",
    "\n",
    "<h2> Input Fasta File  </h2>\n",
    "\n",
    "1. Go to **dashboard** ![dashboard](img/dashboard.png)\n",
    "2. Go to **upload** ![upload](img/upload.png)\n",
    "3. Input **file name**"
   ]
  },
  {
   "cell_type": "code",
   "execution_count": null,
   "metadata": {},
   "outputs": [],
   "source": [
    "input_file = \"ex_seqs.fa\""
   ]
  },
  {
   "cell_type": "markdown",
   "metadata": {},
   "source": [
    "**Example**\n",
    "\n",
    "`\n",
    "input_file = \"my_spacer_sequences.fa\"\n",
    "`"
   ]
  },
  {
   "cell_type": "code",
   "execution_count": null,
   "metadata": {},
   "outputs": [],
   "source": [
    "run_tool(input_file, output_file)"
   ]
  },
  {
   "cell_type": "markdown",
   "metadata": {},
   "source": [
    "**To download the predictions as CSV file, go to the dashboard and download the file 'my_predictions.csv'**\n",
    "\n",
    "**For more information check out the [README on the GitHub Page](https://github.com/jdcla/ProD/README.md)**"
   ]
  }
 ],
 "metadata": {
  "kernelspec": {
   "display_name": "Python [conda env:flowcyt]",
   "language": "python",
   "name": "conda-env-flowcyt-py"
  },
  "language_info": {
   "codemirror_mode": {
    "name": "ipython",
    "version": 3
   },
   "file_extension": ".py",
   "mimetype": "text/x-python",
   "name": "python",
   "nbconvert_exporter": "python",
   "pygments_lexer": "ipython3",
   "version": "3.7.3"
  },
  "toc-autonumbering": false,
  "toc-showcode": false,
  "toc-showmarkdowntxt": false
 },
 "nbformat": 4,
 "nbformat_minor": 4
}
